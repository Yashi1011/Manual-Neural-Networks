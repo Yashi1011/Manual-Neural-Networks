{
 "cells": [
  {
   "cell_type": "markdown",
   "metadata": {},
   "source": [
    "## Importing the libraries"
   ]
  },
  {
   "cell_type": "code",
   "execution_count": 1,
   "metadata": {},
   "outputs": [],
   "source": [
    "import numpy as np"
   ]
  },
  {
   "cell_type": "code",
   "execution_count": 2,
   "metadata": {},
   "outputs": [],
   "source": [
    "import matplotlib.pyplot as plt\n",
    "%matplotlib inline"
   ]
  },
  {
   "cell_type": "code",
   "execution_count": 3,
   "metadata": {},
   "outputs": [],
   "source": [
    "from sklearn.datasets import make_blobs"
   ]
  },
  {
   "cell_type": "markdown",
   "metadata": {},
   "source": [
    "## Creating base `Operation` class"
   ]
  },
  {
   "cell_type": "code",
   "execution_count": 4,
   "metadata": {},
   "outputs": [],
   "source": [
    "class Operation():\n",
    "    \n",
    "    def __init__(self, input_nodes = []):\n",
    "        \n",
    "        self.input_nodes = input_nodes\n",
    "        self.output_nodes = []\n",
    "        \n",
    "        for node in input_nodes:\n",
    "            node.output_nodes.append(self)\n",
    "            \n",
    "        _default_graph.operations.append(self)\n",
    "            \n",
    "            \n",
    "    def compute(self):\n",
    "        pass"
   ]
  },
  {
   "cell_type": "markdown",
   "metadata": {},
   "source": [
    "## Creating example operations"
   ]
  },
  {
   "cell_type": "code",
   "execution_count": 5,
   "metadata": {},
   "outputs": [],
   "source": [
    "class add(Operation):\n",
    "    \n",
    "    def __init__(self, x, y):\n",
    "        \n",
    "        super().__init__([x, y])\n",
    "        \n",
    "        \n",
    "    def compute(self, x, y):\n",
    "        \n",
    "        self.inputs = [x, y]\n",
    "        \n",
    "        return x + y"
   ]
  },
  {
   "cell_type": "code",
   "execution_count": 6,
   "metadata": {},
   "outputs": [],
   "source": [
    "class multiply(Operation):\n",
    "    \n",
    "    def __init__(self, x, y):\n",
    "        \n",
    "        super().__init__([x, y])\n",
    "        \n",
    "        \n",
    "    def compute(self, x, y):\n",
    "        \n",
    "        self.inputs = [x, y]\n",
    "        \n",
    "        return x * y"
   ]
  },
  {
   "cell_type": "code",
   "execution_count": 7,
   "metadata": {},
   "outputs": [],
   "source": [
    "class matmul(Operation):\n",
    "    \n",
    "    def __init__(self, x, y):\n",
    "        \n",
    "        super().__init__([x, y])\n",
    "        \n",
    "        \n",
    "    def compute(self, x, y):\n",
    "        \n",
    "        self.inputs = [x, y]\n",
    "        \n",
    "        return x.dot(y)"
   ]
  },
  {
   "cell_type": "markdown",
   "metadata": {},
   "source": [
    "## Creating `Placeholder` class"
   ]
  },
  {
   "cell_type": "code",
   "execution_count": 8,
   "metadata": {},
   "outputs": [],
   "source": [
    "class Placeholder():\n",
    "    \n",
    "    def __init__(self):\n",
    "        \n",
    "        self.output_nodes = []\n",
    "        \n",
    "        _default_graph.placeholders.append(self)"
   ]
  },
  {
   "cell_type": "markdown",
   "metadata": {},
   "source": [
    "## Creating `Variable` class"
   ]
  },
  {
   "cell_type": "code",
   "execution_count": 9,
   "metadata": {},
   "outputs": [],
   "source": [
    "class Variable():\n",
    "    \n",
    "    def __init__(self, initial_value = None):\n",
    "        \n",
    "        self.value = initial_value\n",
    "        self.output_nodes = []\n",
    "        \n",
    "        _default_graph.variables.append(self)"
   ]
  },
  {
   "cell_type": "markdown",
   "metadata": {},
   "source": [
    "## Creating `Graph` class"
   ]
  },
  {
   "cell_type": "code",
   "execution_count": 10,
   "metadata": {},
   "outputs": [],
   "source": [
    "class Graph():\n",
    "    \n",
    "    def __init__(self):\n",
    "        \n",
    "        self.operations = []\n",
    "        self.placeholders = []\n",
    "        self.variables = []\n",
    "        \n",
    "        \n",
    "    def set_as_default(self):\n",
    "        \n",
    "        global _default_graph\n",
    "        _default_graph = self"
   ]
  },
  {
   "cell_type": "markdown",
   "metadata": {},
   "source": [
    "## Creating `traverse_postorder` function"
   ]
  },
  {
   "cell_type": "code",
   "execution_count": 11,
   "metadata": {},
   "outputs": [],
   "source": [
    "def traverse_postorder(operation):\n",
    "    \n",
    "    nodes_postorder = []\n",
    "    \n",
    "    def recurse(node):\n",
    "        if isinstance(node, Operation):\n",
    "            for input_node in node.input_nodes:\n",
    "                recurse(input_node)\n",
    "        nodes_postorder.append(node)\n",
    "            \n",
    "    recurse(operation)\n",
    "    \n",
    "    return nodes_postorder"
   ]
  },
  {
   "cell_type": "markdown",
   "metadata": {},
   "source": [
    "## Creating `Session` class"
   ]
  },
  {
   "cell_type": "code",
   "execution_count": 12,
   "metadata": {},
   "outputs": [],
   "source": [
    "class Session():\n",
    "    \n",
    "    def run(self, operation, feed_dict = {}):\n",
    "        \n",
    "        nodes_postorder = traverse_postorder(operation)\n",
    "        \n",
    "        for node in nodes_postorder:\n",
    "            \n",
    "            if type(node) == Placeholder:\n",
    "                node.output = feed_dict[node]\n",
    "            elif type(node) == Variable:\n",
    "                node.output = node.value\n",
    "            else:\n",
    "                node.inputs = [input_node.output for input_node in node.input_nodes]\n",
    "                node.output = node.compute(*node.inputs)\n",
    "                \n",
    "            if type(node.output) == list:\n",
    "                node.output = np.array(node.output)\n",
    "                \n",
    "        return operation.output"
   ]
  },
  {
   "cell_type": "markdown",
   "metadata": {},
   "source": [
    "## Example \n",
    "\n",
    "z = Ax + b\n",
    "\n",
    "A = 10\n",
    "\n",
    "b = 1\n",
    "\n",
    "z = 10x + 1"
   ]
  },
  {
   "cell_type": "code",
   "execution_count": 13,
   "metadata": {},
   "outputs": [
    {
     "name": "stdout",
     "output_type": "stream",
     "text": [
      "101\n"
     ]
    }
   ],
   "source": [
    "# Single values\n",
    "\n",
    "g = Graph()\n",
    "g.set_as_default()\n",
    "\n",
    "A = Variable(10)\n",
    "b = Variable(1)\n",
    "\n",
    "x = Placeholder()\n",
    "\n",
    "y = multiply(A, x)\n",
    "z = add(y, b)\n",
    "\n",
    "sess = Session()\n",
    "result = sess.run(operation = z, feed_dict = {x: 10})\n",
    "\n",
    "print(result)"
   ]
  },
  {
   "cell_type": "code",
   "execution_count": 14,
   "metadata": {},
   "outputs": [
    {
     "name": "stdout",
     "output_type": "stream",
     "text": [
      "[[11 22]\n",
      " [31 42]]\n"
     ]
    }
   ],
   "source": [
    "# Matrix values\n",
    "\n",
    "g = Graph()\n",
    "g.set_as_default()\n",
    "\n",
    "A = Variable([[1, 2], [3, 4]])\n",
    "b = Variable([1, 2])\n",
    "\n",
    "x = Placeholder()\n",
    "\n",
    "y = matmul(A, x)\n",
    "z = add(y, b)\n",
    "\n",
    "sess = Session()\n",
    "result = sess.run(operation = z, feed_dict = {x: 10})\n",
    "\n",
    "print(result)"
   ]
  },
  {
   "cell_type": "markdown",
   "metadata": {},
   "source": [
    "## Creating activation function class"
   ]
  },
  {
   "cell_type": "code",
   "execution_count": 15,
   "metadata": {},
   "outputs": [],
   "source": [
    "class sigmoid(Operation):\n",
    "    \n",
    "    def __init__(self, z):\n",
    "        \n",
    "        super().__init__([z])\n",
    "        \n",
    "        \n",
    "    def compute(self, z):\n",
    "        \n",
    "        return 1 / (1 + np.exp(-z))"
   ]
  },
  {
   "cell_type": "markdown",
   "metadata": {},
   "source": [
    "## Data preprocessing"
   ]
  },
  {
   "cell_type": "code",
   "execution_count": 16,
   "metadata": {},
   "outputs": [],
   "source": [
    "dataset = make_blobs(n_samples = 100, n_features = 2, centers = 2, random_state = 75)"
   ]
  },
  {
   "cell_type": "code",
   "execution_count": 17,
   "metadata": {},
   "outputs": [
    {
     "data": {
      "text/plain": [
       "(array([[ 7.61931252e+00,  9.25367084e+00],\n",
       "        [ 8.62924727e+00,  7.95324031e+00],\n",
       "        [ 7.58264275e+00,  8.70372438e+00],\n",
       "        [ 1.31977821e+00, -7.27106670e+00],\n",
       "        [ 2.41247647e+00, -9.99341197e+00],\n",
       "        [ 8.03307900e+00,  9.14918227e+00],\n",
       "        [ 1.06965742e+00, -8.16482510e+00],\n",
       "        [ 8.24497700e+00,  7.84672005e+00],\n",
       "        [ 1.93525980e+00, -7.17127649e+00],\n",
       "        [ 7.15614551e+00,  9.19767913e+00],\n",
       "        [ 3.04605603e+00, -7.50486114e+00],\n",
       "        [ 8.10102654e+00,  8.75813782e+00],\n",
       "        [ 7.31557237e+00,  9.14404937e+00],\n",
       "        [ 3.42929482e+00, -7.80419369e+00],\n",
       "        [ 1.37717651e+00, -1.02226348e+01],\n",
       "        [-2.66966481e-01, -8.00678506e+00],\n",
       "        [ 1.82608307e+00, -5.36968617e+00],\n",
       "        [ 6.85275523e+00,  9.19926872e+00],\n",
       "        [ 9.56869106e-01, -7.91238745e+00],\n",
       "        [ 8.24102706e-01, -1.02285428e+01],\n",
       "        [ 1.96322881e+00, -9.50169117e+00],\n",
       "        [ 8.59328012e+00,  8.93859056e+00],\n",
       "        [ 9.33986161e+00,  7.50691764e+00],\n",
       "        [ 1.05865542e+00, -8.43841416e+00],\n",
       "        [ 2.72364028e+00, -8.24665779e+00],\n",
       "        [ 2.00890845e+00, -9.78471782e+00],\n",
       "        [ 7.51794366e+00,  9.44898266e+00],\n",
       "        [ 1.92000795e+00, -7.50953708e+00],\n",
       "        [ 1.30604214e+00, -8.25681177e+00],\n",
       "        [ 7.01234150e+00,  1.15597048e+01],\n",
       "        [ 8.70077989e+00,  8.75871148e+00],\n",
       "        [ 2.09335725e+00, -7.66278316e+00],\n",
       "        [ 5.86644446e+00,  8.16689882e+00],\n",
       "        [ 1.23053506e+00, -7.98873571e+00],\n",
       "        [ 8.08189402e+00,  9.32716002e+00],\n",
       "        [ 6.55827683e-01, -9.59208780e+00],\n",
       "        [ 7.34356149e+00,  7.25206391e+00],\n",
       "        [ 7.22266722e+00,  7.35154466e+00],\n",
       "        [ 7.27748391e+00,  7.70803805e+00],\n",
       "        [ 7.36565322e+00,  8.29927361e+00],\n",
       "        [ 7.31943614e+00,  8.48278828e+00],\n",
       "        [ 8.45092473e+00,  9.61764632e+00],\n",
       "        [ 8.96868014e+00,  8.31372360e+00],\n",
       "        [ 3.13114921e+00, -8.68494930e+00],\n",
       "        [ 6.14636015e-01, -9.51908883e+00],\n",
       "        [ 1.77126419e+00, -9.39898265e+00],\n",
       "        [ 1.32289422e+00, -6.48525553e+00],\n",
       "        [ 5.66074130e-01, -8.52139667e+00],\n",
       "        [ 8.36533222e+00,  8.38542456e+00],\n",
       "        [ 6.94955160e+00,  7.88012065e+00],\n",
       "        [ 5.46660211e-02, -9.41904481e+00],\n",
       "        [ 7.33738338e+00,  9.11373140e+00],\n",
       "        [ 8.94678094e-01, -1.01218601e+01],\n",
       "        [ 8.49977447e+00,  9.95288811e+00],\n",
       "        [ 1.03238456e+01,  7.39955236e+00],\n",
       "        [ 6.44154633e-02, -9.04982817e+00],\n",
       "        [ 8.06887628e+00,  8.14680238e+00],\n",
       "        [ 6.61272380e+00,  6.11934583e+00],\n",
       "        [ 5.22206821e-01, -8.03894057e+00],\n",
       "        [ 2.72532584e+00, -7.51956557e+00],\n",
       "        [-1.04198438e-02, -7.49682138e+00],\n",
       "        [ 8.65575556e-01, -8.41553795e+00],\n",
       "        [ 7.93706999e+00,  7.30536839e+00],\n",
       "        [ 7.72501975e+00,  1.01563274e+01],\n",
       "        [ 8.35748702e+00,  8.50985870e+00],\n",
       "        [ 8.37247490e+00,  6.51649085e+00],\n",
       "        [ 8.89432808e+00,  9.24191533e+00],\n",
       "        [-1.20046211e+00, -9.55928542e+00],\n",
       "        [ 7.95672084e+00,  8.28006244e+00],\n",
       "        [ 7.27823543e+00,  1.00621765e+01],\n",
       "        [ 8.66503370e+00,  9.77401661e+00],\n",
       "        [ 7.95803846e-01, -9.00301023e+00],\n",
       "        [ 1.39708520e+00, -7.25918415e+00],\n",
       "        [ 1.38633453e+00, -7.76488437e+00],\n",
       "        [ 2.88603902e+00, -8.85261704e+00],\n",
       "        [ 1.59272987e+00, -8.46509690e+00],\n",
       "        [ 7.01938710e+00,  8.92881054e+00],\n",
       "        [ 1.99243535e+00, -8.85885722e+00],\n",
       "        [ 8.20752800e+00,  8.41054183e+00],\n",
       "        [ 1.57961049e+00, -8.17089971e+00],\n",
       "        [ 1.46695415e+00, -9.28721999e+00],\n",
       "        [ 1.90073973e+00, -7.24386675e+00],\n",
       "        [ 7.17455351e+00,  7.41018978e+00],\n",
       "        [ 1.82921897e+00, -9.86956281e+00],\n",
       "        [ 4.01526696e-02, -8.94031487e+00],\n",
       "        [ 8.53768970e+00,  8.91814478e+00],\n",
       "        [ 2.74991843e+00, -8.52481798e+00],\n",
       "        [ 1.00735169e+01,  8.98876705e+00],\n",
       "        [ 7.21695672e+00,  6.98134041e+00],\n",
       "        [ 9.16726011e+00,  9.14440640e+00],\n",
       "        [ 1.00102859e+00, -9.54867510e+00],\n",
       "        [ 7.73699587e+00,  9.09535488e+00],\n",
       "        [ 7.49698241e+00,  8.88378296e+00],\n",
       "        [ 7.58314107e+00,  7.57361129e+00],\n",
       "        [ 1.41804346e+00, -8.10517372e+00],\n",
       "        [ 7.22188494e+00,  6.95940083e+00],\n",
       "        [ 1.85582689e+00, -6.74473432e+00],\n",
       "        [ 8.44517450e+00,  7.52290802e+00],\n",
       "        [-7.32671545e-02, -1.16999964e+01],\n",
       "        [ 3.27031066e+00, -7.91978361e+00]]),\n",
       " array([1, 1, 1, 0, 0, 1, 0, 1, 0, 1, 0, 1, 1, 0, 0, 0, 0, 1, 0, 0, 0, 1,\n",
       "        1, 0, 0, 0, 1, 0, 0, 1, 1, 0, 1, 0, 1, 0, 1, 1, 1, 1, 1, 1, 1, 0,\n",
       "        0, 0, 0, 0, 1, 1, 0, 1, 0, 1, 1, 0, 1, 1, 0, 0, 0, 0, 1, 1, 1, 1,\n",
       "        1, 0, 1, 1, 1, 0, 0, 0, 0, 0, 1, 0, 1, 0, 0, 0, 1, 0, 0, 1, 0, 1,\n",
       "        1, 1, 0, 1, 1, 1, 0, 1, 0, 1, 0, 0]))"
      ]
     },
     "execution_count": 17,
     "metadata": {},
     "output_type": "execute_result"
    }
   ],
   "source": [
    "dataset"
   ]
  },
  {
   "cell_type": "code",
   "execution_count": 18,
   "metadata": {},
   "outputs": [],
   "source": [
    "features, labels = dataset[0], dataset[1]"
   ]
  },
  {
   "cell_type": "code",
   "execution_count": 19,
   "metadata": {},
   "outputs": [],
   "source": [
    "x = np.linspace(-1, 11, 100)\n",
    "y = -x + 5"
   ]
  },
  {
   "cell_type": "code",
   "execution_count": 20,
   "metadata": {},
   "outputs": [
    {
     "data": {
      "text/plain": [
       "Text(0, 0.5, 'Feature 2')"
      ]
     },
     "execution_count": 20,
     "metadata": {},
     "output_type": "execute_result"
    },
    {
     "data": {
      "image/png": "[encoded data removed]",
      "text/plain": [
       "<Figure size 432x288 with 1 Axes>"
      ]
     },
     "metadata": {
      "needs_background": "light"
     },
     "output_type": "display_data"
    }
   ],
   "source": [
    "fig, ax = plt.subplots()\n",
    "scatter = ax.scatter(features[:, 0], features[:, 1], c=labels, cmap = 'coolwarm')\n",
    "legend = ax.legend(*scatter.legend_elements(), title=\"Classes\")\n",
    "ax.add_artist(legend)\n",
    "\n",
    "plt.plot(x, y)\n",
    "plt.title('Classification model')\n",
    "plt.xlabel('Feature 1')\n",
    "plt.ylabel('Feature 2')"
   ]
  },
  {
   "cell_type": "markdown",
   "metadata": {},
   "source": [
    "## Example"
   ]
  },
  {
   "cell_type": "markdown",
   "metadata": {},
   "source": [
    "y = mx + b\n",
    "\n",
    "y = -x + 5\n",
    "\n",
    "f2 = -f1 + 5\n",
    "\n",
    "fm[1, 1] - 5 = 0\n",
    "\n",
    "+ *f1 - feature 1*\n",
    "\n",
    "+ *f2 - feature 2*\n",
    "\n",
    "+ *fm - feature matrix*"
   ]
  },
  {
   "cell_type": "markdown",
   "metadata": {},
   "source": [
    "## (1, 1)*f - 5 = 0"
   ]
  },
  {
   "cell_type": "code",
   "execution_count": 21,
   "metadata": {},
   "outputs": [
    {
     "data": {
      "text/plain": [
       "array([13])"
      ]
     },
     "execution_count": 21,
     "metadata": {},
     "output_type": "execute_result"
    }
   ],
   "source": [
    "np.array([1, 1]).dot(np.array([[8], [10]])) - 5"
   ]
  },
  {
   "cell_type": "code",
   "execution_count": 22,
   "metadata": {},
   "outputs": [
    {
     "data": {
      "text/plain": [
       "array([-13])"
      ]
     },
     "execution_count": 22,
     "metadata": {},
     "output_type": "execute_result"
    }
   ],
   "source": [
    "np.array([1, 1]).dot(np.array([[2], [-10]])) - 5"
   ]
  },
  {
   "cell_type": "code",
   "execution_count": 23,
   "metadata": {},
   "outputs": [
    {
     "name": "stdout",
     "output_type": "stream",
     "text": [
      "0.999997739675702\n"
     ]
    }
   ],
   "source": [
    "# Cartesian coordinates\n",
    "\n",
    "g = Graph()\n",
    "g.set_as_default()\n",
    "\n",
    "x = Placeholder()\n",
    "\n",
    "w = Variable([1, 1])\n",
    "b = Variable(-5)\n",
    "\n",
    "z = add(matmul(w, x), b)\n",
    "\n",
    "a = sigmoid(z)\n",
    "\n",
    "sess = Session()\n",
    "result = sess.run(operation = a, feed_dict = {x: [8, 10]})\n",
    "\n",
    "print(result)"
   ]
  }
 ],
 "metadata": {
  "kernelspec": {
   "display_name": "Python 3",
   "language": "python",
   "name": "python3"
  },
  "language_info": {
   "codemirror_mode": {
    "name": "ipython",
    "version": 3
   },
   "file_extension": ".py",
   "mimetype": "text/x-python",
   "name": "python",
   "nbconvert_exporter": "python",
   "pygments_lexer": "ipython3",
   "version": "3.7.6"
  }
 },
 "nbformat": 4,
 "nbformat_minor": 4
}
